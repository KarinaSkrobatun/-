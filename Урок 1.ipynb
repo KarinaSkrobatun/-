{
 "cells": [
  {
   "cell_type": "markdown",
   "id": "2203bfab",
   "metadata": {},
   "source": [
    "### Задача 1"
   ]
  },
  {
   "cell_type": "markdown",
   "id": "98ae3823",
   "metadata": {},
   "source": [
    "Студентам неважно в каком именно порядке будут расположены занятия, но должны быть определенные 4 дисциплины, поэтому можем воспользоваться метедом размещения:"
   ]
  },
  {
   "cell_type": "code",
   "execution_count": 3,
   "id": "40ac074b",
   "metadata": {},
   "outputs": [],
   "source": [
    "import numpy as np\n",
    "from math import factorial"
   ]
  },
  {
   "cell_type": "code",
   "execution_count": 5,
   "id": "cd5fc3a7",
   "metadata": {},
   "outputs": [
    {
     "ename": "NameError",
     "evalue": "name 'arrangements' is not defined",
     "output_type": "error",
     "traceback": [
      "\u001b[1;31m---------------------------------------------------------------------------\u001b[0m",
      "\u001b[1;31mNameError\u001b[0m                                 Traceback (most recent call last)",
      "Input \u001b[1;32mIn [5]\u001b[0m, in \u001b[0;36m<cell line: 3>\u001b[1;34m()\u001b[0m\n\u001b[0;32m      1\u001b[0m n \u001b[38;5;241m=\u001b[39m \u001b[38;5;241m10\u001b[39m\n\u001b[0;32m      2\u001b[0m k \u001b[38;5;241m=\u001b[39m \u001b[38;5;241m4\u001b[39m\n\u001b[1;32m----> 3\u001b[0m \u001b[43marrangements\u001b[49m(n, k)\n\u001b[0;32m      4\u001b[0m \u001b[38;5;28;01mreturn\u001b[39;00m \u001b[38;5;28mint\u001b[39m(factorial(n) \u001b[38;5;241m/\u001b[39m factorial(n \u001b[38;5;241m-\u001b[39m k))\n",
      "\u001b[1;31mNameError\u001b[0m: name 'arrangements' is not defined"
     ]
    }
   ],
   "source": [
    "n = 10\n",
    "k = 4\n",
    "arrangements(n, k)\n",
    "return int(factorial(n) / factorial(n - k))"
   ]
  },
  {
   "cell_type": "markdown",
   "id": "8ecfe807",
   "metadata": {},
   "source": [
    "### Задача 2"
   ]
  },
  {
   "cell_type": "markdown",
   "id": "e52926eb",
   "metadata": {},
   "source": [
    "Разделим колоду на 4 и 48 карты. В случае, если должен быть вытянут хотя бы один туз комбинации 4-ёх карт будут следующие:\n",
    "1т и 3нт\n",
    "2т и 2нт\n",
    "3т и 1 нт\n",
    "4т и 0 нт\n",
    "Так как между ними можно поставить \"и\", вероятности перемножим и потом сложим"
   ]
  },
  {
   "cell_type": "code",
   "execution_count": 1,
   "id": "0d550495",
   "metadata": {},
   "outputs": [
    {
     "ename": "NameError",
     "evalue": "name 'combinations' is not defined",
     "output_type": "error",
     "traceback": [
      "\u001b[1;31m---------------------------------------------------------------------------\u001b[0m",
      "\u001b[1;31mNameError\u001b[0m                                 Traceback (most recent call last)",
      "Input \u001b[1;32mIn [1]\u001b[0m, in \u001b[0;36m<cell line: 1>\u001b[1;34m()\u001b[0m\n\u001b[1;32m----> 1\u001b[0m (\u001b[43mcombinations\u001b[49m(\u001b[38;5;241m4\u001b[39m, \u001b[38;5;241m1\u001b[39m)\u001b[38;5;241m*\u001b[39mcombinations(\u001b[38;5;241m48\u001b[39m, \u001b[38;5;241m3\u001b[39m))\u001b[38;5;241m+\u001b[39m(combinations(\u001b[38;5;241m2\u001b[39m, \u001b[38;5;241m2\u001b[39m)\u001b[38;5;241m*\u001b[39mcombinations(\u001b[38;5;241m48\u001b[39m, \u001b[38;5;241m2\u001b[39m))\u001b[38;5;241m+\u001b[39m(combinations(\u001b[38;5;241m4\u001b[39m, \u001b[38;5;241m3\u001b[39m)\u001b[38;5;241m*\u001b[39mcombinations(\u001b[38;5;241m48\u001b[39m, \u001b[38;5;241m1\u001b[39m))\u001b[38;5;241m+\u001b[39m(combinations(\u001b[38;5;241m4\u001b[39m, \u001b[38;5;241m4\u001b[39m)\u001b[38;5;241m*\u001b[39mcombinations(\u001b[38;5;241m48\u001b[39m, \u001b[38;5;241m0\u001b[39m))\n",
      "\u001b[1;31mNameError\u001b[0m: name 'combinations' is not defined"
     ]
    }
   ],
   "source": [
    "(combinations(4, 1)*combinations(48, 3))+(combinations(2, 2)*combinations(48, 2))+(combinations(4, 3)*combinations(48, 1))+(combinations(4, 4)*combinations(48, 0))"
   ]
  },
  {
   "cell_type": "markdown",
   "id": "963aaa9d",
   "metadata": {},
   "source": [
    "### Задача 3"
   ]
  },
  {
   "cell_type": "markdown",
   "id": "3c20cc99",
   "metadata": {},
   "source": [
    "Два определенных человека можно пересаживать 2! способами, а всех остальных 5! \n",
    "Всего пар 6, тогда количество исходов равно 2!*5!*6 делим на общее коичество мест 7"
   ]
  },
  {
   "cell_type": "code",
   "execution_count": 3,
   "id": "94ee5fab",
   "metadata": {},
   "outputs": [
    {
     "ename": "NameError",
     "evalue": "name 'factorial' is not defined",
     "output_type": "error",
     "traceback": [
      "\u001b[1;31m---------------------------------------------------------------------------\u001b[0m",
      "\u001b[1;31mNameError\u001b[0m                                 Traceback (most recent call last)",
      "Input \u001b[1;32mIn [3]\u001b[0m, in \u001b[0;36m<cell line: 1>\u001b[1;34m()\u001b[0m\n\u001b[1;32m----> 1\u001b[0m \u001b[43mfactorial\u001b[49m(\u001b[38;5;241m2\u001b[39m)\u001b[38;5;241m*\u001b[39mfactorial(\u001b[38;5;241m5\u001b[39m)\u001b[38;5;241m*\u001b[39m\u001b[38;5;241m6\u001b[39m \u001b[38;5;241m/\u001b[39m \u001b[38;5;241m7\u001b[39m\n",
      "\u001b[1;31mNameError\u001b[0m: name 'factorial' is not defined"
     ]
    }
   ],
   "source": [
    "factorial(2)*factorial(5)*6 / 7"
   ]
  },
  {
   "cell_type": "markdown",
   "id": "535fbfa8",
   "metadata": {},
   "source": [
    "### Задача 4"
   ]
  },
  {
   "cell_type": "markdown",
   "id": "9db7e5cd",
   "metadata": {},
   "source": [
    "а) Так как нам неважен порядок, а только состав, воспользуемся методом сочетаний.\n",
    "Для того, чтобы найти все возможные исходы, по найдём n = 60!/3!*57! = 34220\n",
    "Найдем вероятност исхода, когда студент знает все три билета: m = 50!/3!*47! = 19600\n",
    "По классической формуле вероятности: P = m/n = 19600/34220 = 0,57"
   ]
  },
  {
   "cell_type": "markdown",
   "id": "c6f29ffd",
   "metadata": {},
   "source": [
    "б) Для нахождения вероятности 2 билетов из трех рзделим сочетания на две группы: ((50!/(2!*48!))*(10!/(1!*9!))/(60!/(3!57!))"
   ]
  },
  {
   "cell_type": "markdown",
   "id": "0f9e19ac",
   "metadata": {},
   "source": [
    "### Задача 5"
   ]
  },
  {
   "cell_type": "markdown",
   "id": "4b485ef0",
   "metadata": {},
   "source": [
    "Эти события совместны, так как выпавшее число может быть четным и больше трёх одновременно.\n",
    "Вероятность четного 1/2 (числа 2,4,6 из 6)\n",
    "Вероятность больше трех 1/2 (4,5,6 из 6)\n",
    "Р(А|B)=1/4\n",
    "При появлении двух независимых событий выполняется равенство: P(A∗B)=P(A)∗P(B)\n",
    "В данном случае это равенство не выполняется, значит события зависимые"
   ]
  }
 ],
 "metadata": {
  "kernelspec": {
   "display_name": "Python 3 (ipykernel)",
   "language": "python",
   "name": "python3"
  },
  "language_info": {
   "codemirror_mode": {
    "name": "ipython",
    "version": 3
   },
   "file_extension": ".py",
   "mimetype": "text/x-python",
   "name": "python",
   "nbconvert_exporter": "python",
   "pygments_lexer": "ipython3",
   "version": "3.9.12"
  }
 },
 "nbformat": 4,
 "nbformat_minor": 5
}
