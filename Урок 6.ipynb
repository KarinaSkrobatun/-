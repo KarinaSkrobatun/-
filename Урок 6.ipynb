{
 "cells": [
  {
   "cell_type": "markdown",
   "id": "eb16ed9c",
   "metadata": {},
   "source": [
    "### Задание 1"
   ]
  },
  {
   "cell_type": "code",
   "execution_count": 1,
   "id": "2688777d",
   "metadata": {},
   "outputs": [],
   "source": [
    "import numpy as np\n",
    "import pandas as pd\n",
    "from scipy import stats\n",
    "from matplotlib import pyplot as plt"
   ]
  },
  {
   "cell_type": "code",
   "execution_count": 2,
   "id": "254fa005",
   "metadata": {},
   "outputs": [],
   "source": [
    "salary = [35, 45, 190, 200, 40, 70, 54, 150, 120, 110] \n",
    "scoring = [401, 574, 874, 919, 459, 739, 653, 902, 746, 832]"
   ]
  },
  {
   "cell_type": "markdown",
   "id": "2085ad98",
   "metadata": {},
   "source": [
    "Найдем смещённую ковариацию:"
   ]
  },
  {
   "cell_type": "code",
   "execution_count": null,
   "id": "5aad94d8",
   "metadata": {},
   "outputs": [],
   "source": [
    "xy=0\n",
    "x=0\n",
    "y=0\n",
    "\n",
    "n = len(salary)\n",
    "for i in range(0, n):\n",
    "    xy = xy+salary[i]*scoring[i]\n",
    "    x = x+salary[i]\n",
    "    y = y+scoring[i]\n",
    "x_avg = x/n\n",
    "y_avg = y/n\n",
    "cov = xy/n - x_avg*y_avg\n",
    "cov\n",
    "\n",
    "np.cov(salary,scoring,ddof=0)"
   ]
  },
  {
   "cell_type": "markdown",
   "id": "a89f1603",
   "metadata": {},
   "source": [
    "Ковариация несмещённая:"
   ]
  },
  {
   "cell_type": "code",
   "execution_count": null,
   "id": "92c84a30",
   "metadata": {},
   "outputs": [],
   "source": [
    "sum_ = 0\n",
    "for i in range(0, n):\n",
    "   sum_ = sum_ + (salary[i]-x_avg)*(scoring[i]-y_avg)\n",
    "cov_ = 1/(n-1)*sum_\n",
    "cov\n",
    "\n",
    "np.cov(salary,scoring,ddof=1)"
   ]
  },
  {
   "cell_type": "markdown",
   "id": "f32adea5",
   "metadata": {},
   "source": [
    "Коэффициент корреляции Пирсона:"
   ]
  },
  {
   "cell_type": "markdown",
   "id": "d2326cf4",
   "metadata": {},
   "source": [
    "Для этого найдем СКО:"
   ]
  },
  {
   "cell_type": "code",
   "execution_count": null,
   "id": "6a7c06a4",
   "metadata": {},
   "outputs": [],
   "source": [
    "sum_x = 0\n",
    "sum_y = 0\n",
    "for i in range(0, n):\n",
    "    sum_x = sum_x + (salary[i]-x_avg)**2\n",
    "    sum_y = sum_y + (scoring[i]-y_avg)**2\n",
    "Dx = 1/(n)*sum_x\n",
    "Dy = 1/(n)*sum_y\n",
    "scale_x = Dx**0.5\n",
    "scale_y = Dy**0.5\n",
    "\n",
    "print(Dx, scale_x)\n",
    "print(Dy, scale_y)"
   ]
  },
  {
   "cell_type": "code",
   "execution_count": null,
   "id": "de2fbefb",
   "metadata": {},
   "outputs": [],
   "source": [
    "r = cov/(scale_X*scale_Y)\n",
    "r\n",
    "\n",
    "np.corrcoef(salary, scoring)"
   ]
  },
  {
   "cell_type": "markdown",
   "id": "4ce35dbb",
   "metadata": {},
   "source": [
    "### Задание 2"
   ]
  },
  {
   "cell_type": "code",
   "execution_count": 4,
   "id": "c7f583da",
   "metadata": {},
   "outputs": [],
   "source": [
    "IQ = [131, 125, 115, 122, 131, 115, 107, 99, 125, 111]\n",
    "n = len(IQ)"
   ]
  },
  {
   "cell_type": "markdown",
   "id": "5a410048",
   "metadata": {},
   "source": [
    "Найдём среднее значение и СКО:"
   ]
  },
  {
   "cell_type": "code",
   "execution_count": null,
   "id": "28ee89f0",
   "metadata": {},
   "outputs": [],
   "source": [
    "mean = sum(IQ)/n\n",
    "sum_=0\n",
    "for i in range(0,n):\n",
    "    sum_ = sum_ + (IQ[i]-mean)**2\n",
    "scale_ = (1/(n-1)*sum_)**0.5"
   ]
  },
  {
   "cell_type": "markdown",
   "id": "81e37b54",
   "metadata": {},
   "source": [
    "Без дисперсии используем t-распределение и t-статистику Стьюдента:"
   ]
  },
  {
   "cell_type": "code",
   "execution_count": null,
   "id": "7ac91b2f",
   "metadata": {},
   "outputs": [],
   "source": [
    "p=0.95\n",
    "alpha = 1 - p\n",
    "t = stats.t.ppf(1 - alpha / 2, df=n - 1)\n",
    "t"
   ]
  },
  {
   "cell_type": "markdown",
   "id": "f179bd34",
   "metadata": {},
   "source": [
    "По формуле находим доверительный интервал:"
   ]
  },
  {
   "cell_type": "code",
   "execution_count": null,
   "id": "d1487334",
   "metadata": {},
   "outputs": [],
   "source": [
    "(mean - t * scale_ / np.sqrt(n), mean + t * scale_ / np.sqrt(n))"
   ]
  },
  {
   "cell_type": "markdown",
   "id": "f77489b1",
   "metadata": {},
   "source": [
    "### Задание 3"
   ]
  },
  {
   "cell_type": "markdown",
   "id": "7082fcf1",
   "metadata": {},
   "source": [
    "Так как дисперисия известна и распределение нормальное, воспользуемся Т-статистикой:"
   ]
  },
  {
   "cell_type": "code",
   "execution_count": null,
   "id": "d885cb66",
   "metadata": {},
   "outputs": [],
   "source": [
    "n=27\n",
    "D = 25\n",
    "scale = 5\n",
    "mean = 174.2\n",
    "p=0.95\n",
    "\n",
    "alpha = 1 - p\n",
    "\n",
    "t = stats.norm.ppf(1 - alpha/2)\n",
    "t"
   ]
  },
  {
   "cell_type": "markdown",
   "id": "8e1c6fb9",
   "metadata": {},
   "source": [
    "Найдём доверительный интервал:"
   ]
  },
  {
   "cell_type": "code",
   "execution_count": null,
   "id": "9184e0c5",
   "metadata": {},
   "outputs": [],
   "source": [
    "(mean - t * scale / np.sqrt(n), mean + t * scale / np.sqrt(n))"
   ]
  }
 ],
 "metadata": {
  "kernelspec": {
   "display_name": "Python 3 (ipykernel)",
   "language": "python",
   "name": "python3"
  },
  "language_info": {
   "codemirror_mode": {
    "name": "ipython",
    "version": 3
   },
   "file_extension": ".py",
   "mimetype": "text/x-python",
   "name": "python",
   "nbconvert_exporter": "python",
   "pygments_lexer": "ipython3",
   "version": "3.9.12"
  }
 },
 "nbformat": 4,
 "nbformat_minor": 5
}
