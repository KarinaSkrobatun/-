{
 "cells": [
  {
   "cell_type": "markdown",
   "id": "f8ccb4c9",
   "metadata": {},
   "source": [
    "### Задание 1"
   ]
  },
  {
   "cell_type": "code",
   "execution_count": 1,
   "id": "e2cd7d88",
   "metadata": {},
   "outputs": [],
   "source": [
    "import pandas as pd\n",
    "import numpy as np\n",
    "from matplotlib import pyplot as plt"
   ]
  },
  {
   "cell_type": "markdown",
   "id": "83be2dbf",
   "metadata": {},
   "source": [
    "Подставим значения дисперии и левой границы в формулу дисперсии для равномерного распределения и выразим правую границу:"
   ]
  },
  {
   "cell_type": "markdown",
   "id": "ab91d793",
   "metadata": {},
   "source": [
    "0,2 = (x-0,5)^2/12"
   ]
  },
  {
   "cell_type": "markdown",
   "id": "259716ee",
   "metadata": {},
   "source": [
    "(x-0,5)^2=2,4"
   ]
  },
  {
   "cell_type": "code",
   "execution_count": 4,
   "id": "efa9974f",
   "metadata": {},
   "outputs": [
    {
     "data": {
      "text/plain": [
       "1.5491933384829668"
      ]
     },
     "execution_count": 4,
     "metadata": {},
     "output_type": "execute_result"
    }
   ],
   "source": [
    "c = np.sqrt(2.4)\n",
    "c"
   ]
  },
  {
   "cell_type": "code",
   "execution_count": 11,
   "id": "61788dd9",
   "metadata": {},
   "outputs": [
    {
     "data": {
      "text/plain": [
       "2.049193338482967"
      ]
     },
     "execution_count": 11,
     "metadata": {},
     "output_type": "execute_result"
    }
   ],
   "source": [
    "a = 0.5\n",
    "x = c + a\n",
    "x"
   ]
  },
  {
   "cell_type": "markdown",
   "id": "92640990",
   "metadata": {},
   "source": [
    "### Задание 2"
   ]
  },
  {
   "cell_type": "markdown",
   "id": "48e2707d",
   "metadata": {},
   "source": [
    "P(X>182)=1-F((182-174)/8)=1-0,3413=0,6587"
   ]
  },
  {
   "cell_type": "markdown",
   "id": "aa5ccd4c",
   "metadata": {},
   "source": [
    "P(X>190)=1-F((190-174)/8)=1-0,4772=0,5228"
   ]
  },
  {
   "cell_type": "markdown",
   "id": "b877dfa9",
   "metadata": {},
   "source": [
    "P(166<X<190)=F((190-174)/8)-F((166-174)/8)=0,4772+0,3413=0,8185"
   ]
  },
  {
   "cell_type": "markdown",
   "id": "7c5c436a",
   "metadata": {},
   "source": [
    "P(166<X<182)=F((182-174)/8)-F((166-174)/8)=0,3413+0,3413=0,6826"
   ]
  },
  {
   "cell_type": "markdown",
   "id": "eec12403",
   "metadata": {},
   "source": [
    "P(158<X<190)=F((190-174)/8)-F((158-174)/8)=0,4772+0,4772=0,9544"
   ]
  },
  {
   "cell_type": "markdown",
   "id": "e0e5c027",
   "metadata": {},
   "source": [
    "P(не выше 150 или не ниже 190)=F((190-174)/8)-F((150-174)/8)=0,4772+0,49865=0,97585\n",
    "1-0,97585=0,02415"
   ]
  },
  {
   "cell_type": "markdown",
   "id": "9a49d2e5",
   "metadata": {},
   "source": [
    "P(не выше 150 или не ниже 198)=F((198-174)/8)-F((150-174)/8)=0,49865+0,49865=0,9973\n",
    "1-0,9973=0,0027"
   ]
  },
  {
   "cell_type": "markdown",
   "id": "465367ac",
   "metadata": {},
   "source": [
    "P(X<166)=0-F((166-174)/8)=0+0,3413=0,3413"
   ]
  },
  {
   "cell_type": "markdown",
   "id": "1a07822a",
   "metadata": {},
   "source": [
    "(значения были взяты из таблицы значений интегральной функции Лапласа)"
   ]
  },
  {
   "cell_type": "markdown",
   "id": "c436b4df",
   "metadata": {},
   "source": [
    "### Задание 3"
   ]
  },
  {
   "cell_type": "markdown",
   "id": "e0a95624",
   "metadata": {},
   "source": [
    "Так как 5% коробок имеют массу меньше 1 кг"
   ]
  },
  {
   "cell_type": "markdown",
   "id": "c590918e",
   "metadata": {},
   "source": [
    "P(X<1)=F((1-1,06)/σ)-F((−∞-1,06)/σ)=0,05\n",
    "   -F(0,06/σ)+0,05=0,05\n",
    "   F(0,06/σ)=0,45\n",
    "   0,06/σ=1,645\n",
    "   σ=0,0365"
   ]
  },
  {
   "cell_type": "markdown",
   "id": "ce61e2a1",
   "metadata": {},
   "source": [
    "Процент коробок, имеющих массу больше 1.1 кг:"
   ]
  },
  {
   "cell_type": "markdown",
   "id": "75b17fc5",
   "metadata": {},
   "source": [
    "P(1,1<X<∞)=F(∞)-F((1,1-1,06)/0,0365)=F(∞)+F(0,1)=0,5+0,3970=0,897 или 89,7"
   ]
  }
 ],
 "metadata": {
  "kernelspec": {
   "display_name": "Python 3 (ipykernel)",
   "language": "python",
   "name": "python3"
  },
  "language_info": {
   "codemirror_mode": {
    "name": "ipython",
    "version": 3
   },
   "file_extension": ".py",
   "mimetype": "text/x-python",
   "name": "python",
   "nbconvert_exporter": "python",
   "pygments_lexer": "ipython3",
   "version": "3.9.12"
  }
 },
 "nbformat": 4,
 "nbformat_minor": 5
}
